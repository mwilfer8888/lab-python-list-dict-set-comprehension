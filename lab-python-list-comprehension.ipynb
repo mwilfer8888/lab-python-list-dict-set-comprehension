{
 "cells": [
  {
   "cell_type": "markdown",
   "id": "25d7736c-ba17-4aff-b6bb-66eba20fbf4e",
   "metadata": {},
   "source": [
    "# Lab | List, Dict and Set Comprehension"
   ]
  },
  {
   "cell_type": "markdown",
   "id": "7dd3cbde-675a-4b81-92c3-f728846dbe06",
   "metadata": {},
   "source": [
    "## Exercise: Managing Customer Orders Optimized with Comprehension"
   ]
  },
  {
   "cell_type": "markdown",
   "id": "5d500160-2fb7-4777-b5e4-09d45ebaf328",
   "metadata": {},
   "source": [
    "In the previous exercise, you developed a program to manage customer orders and inventory. Now, let's take it a step further and incorporate comprehension into your code.\n",
    "\n",
    "Follow the steps below to complete the exercise:\n",
    "\n",
    "1. Review your code from the previous exercise and identify areas where you can apply comprehension to simplify and streamline your code. \n",
    "\n",
    "    - *Hint: Apply it to initialize inventory, updating the inventory and printing the updated inventory.*\n",
    "    \n",
    "    - For example, in initializing the inventory, we could have:\n",
    "    \n",
    "        ```python\n",
    "        def initialize_inventory(products):\n",
    "            inventory = {product: int(input(f\"Enter the quantity of {product}s available: \")) for product in products}\n",
    "            return inventory\n",
    "\n",
    "        ```\n",
    "<br>\n",
    "    \n",
    "    \n",
    "2. Modify the function get_customer_orders so it prompts the user to enter the number of customer orders and gathers the product names using a loop and user input. Use comprehension.\n",
    "\n",
    "3. Add a new function to calculate the total price of the customer order. For each product in customer_orders, prompt the user to enter the price of that product. Use comprehension to calculate the total price. Note: assume that the user can only have 1 unit of each product.\n",
    "\n",
    "4. Modify the update_inventory function to remove the product from the inventory if its quantity becomes zero after fulfilling the customer orders. Use comprehension to filter out the products with a quantity of zero from the inventory.\n",
    "\n",
    "5. Print the total price of the customer order.\n",
    "\n",
    "Your code should produce output similar to the following:\n",
    "\n",
    "```python\n",
    "Enter the quantity of t-shirts available:  5\n",
    "Enter the quantity of mugs available:  4\n",
    "Enter the quantity of hats available:  3\n",
    "Enter the quantity of books available:  2\n",
    "Enter the quantity of keychains available:  1\n",
    "Enter the number of customer orders:  2\n",
    "Enter the name of a product that a customer wants to order:  hat\n",
    "Enter the name of a product that a customer wants to order:  keychain\n",
    "\n",
    "Order Statistics:\n",
    "Total Products Ordered: 2\n",
    "Percentage of Unique Products Ordered: 40.0\n",
    "\n",
    "Updated Inventory:\n",
    "t-shirt: 5\n",
    "mug: 4\n",
    "hat: 2\n",
    "book: 2\n",
    "Enter the price of keychain:  5\n",
    "Enter the price of hat:  10\n",
    "Total Price: 15.0\n",
    "\n",
    "```\n"
   ]
  },
  {
   "cell_type": "code",
   "execution_count": 2,
   "id": "4e8b557b",
   "metadata": {},
   "outputs": [],
   "source": [
    "products = [\"tshirt\", \"mug\", \"hat\", \"book\", \"keychain\"]\n",
    "inventory = {}"
   ]
  },
  {
   "cell_type": "code",
   "execution_count": 3,
   "id": "b7f52048",
   "metadata": {},
   "outputs": [
    {
     "name": "stdout",
     "output_type": "stream",
     "text": [
      "Enter the quantity of tshirt:5\n",
      "Enter the quantity of mug:4\n",
      "Enter the quantity of hat:3\n",
      "Enter the quantity of book:2\n",
      "Enter the quantity of keychain:1\n"
     ]
    }
   ],
   "source": [
    "\n",
    "# def initialize_inventory(products):\n",
    "#     inventory = {product: int(input(f\"Enter the quantity of {product} that is in stock:\")) for product in products}\n",
    "#     inventory[product] = quantity \n",
    "#     return inventory\n",
    "\n",
    "def initialize_inventory(products):\n",
    "    inventory = {product: int(input(f\"Enter the quantity of {product}:\")) for product in products}\n",
    "\n",
    "initialize_inventory(products)\n",
    "\n"
   ]
  },
  {
   "cell_type": "code",
   "execution_count": 4,
   "id": "9d0a7649",
   "metadata": {},
   "outputs": [],
   "source": [
    "#Modify the function get_customer_orders so it prompts the user to enter\n",
    "#the number of customer orders and gathers the product names using a loop and user input. Use comprehension.\n",
    "customer_orders = set()\n",
    "def customer_input():\n",
    "    while True:\n",
    "        desired_product = input(\"Enter the product you want to order:\").strip()\n",
    "        customer_orders.add(desired_product) \n",
    "        another_one = input(\"Would you like to add another product to your order, yes or no?\")\n",
    "        if another_one.lower() != \"yes\":\n",
    "            break\n",
    "    return(customer_orders)   \n",
    "\n",
    "\n",
    "\n"
   ]
  },
  {
   "cell_type": "code",
   "execution_count": 5,
   "id": "4fb6e296",
   "metadata": {},
   "outputs": [],
   "source": [
    "def get_customer_orders():\n",
    "    number_customer_orders = int(input(\"How many customer orders do you have? \"))\n",
    "    [customer_input() for i in range(number_customer_orders)]"
   ]
  },
  {
   "cell_type": "code",
   "execution_count": 6,
   "id": "7b13542c",
   "metadata": {},
   "outputs": [
    {
     "name": "stdout",
     "output_type": "stream",
     "text": [
      "How many customer orders do you have? 1\n",
      "Enter the product you want to order:mug\n",
      "Would you like to add another product to your order, yes or no?yes\n",
      "Enter the product you want to order:hat\n",
      "Would you like to add another product to your order, yes or no?no\n"
     ]
    }
   ],
   "source": [
    "get_customer_orders()"
   ]
  },
  {
   "cell_type": "code",
   "execution_count": 41,
   "id": "5952c0db",
   "metadata": {},
   "outputs": [],
   "source": [
    "# def total_order_price(customer_orders):\n",
    "#     for desired_product in customer_orders:\n",
    "#         product_price = set()\n",
    "#         product_price = input(float(\"Please enter the product price:\"))\n",
    "#         order_total = sum(product_price)\n",
    "#         return(order_total)\n",
    "\n",
    "product_prices = {}\n",
    "total_price = None\n",
    "\n",
    "def total_order_price(customer_orders):\n",
    "    product_prices = {product: float(input(f\"Please enter the price of {product}: \")) for product in customer_orders}\n",
    "    total_price = sum(product_prices[product] for product in customer_orders)\n",
    "    print(f\"The total price of the order is ${total_price}.\")"
   ]
  },
  {
   "cell_type": "code",
   "execution_count": 34,
   "id": "1100101a",
   "metadata": {},
   "outputs": [
    {
     "name": "stdout",
     "output_type": "stream",
     "text": [
      "{'hat', 'mug'}\n"
     ]
    }
   ],
   "source": [
    "print(customer_orders)"
   ]
  },
  {
   "cell_type": "code",
   "execution_count": 35,
   "id": "343f4457",
   "metadata": {},
   "outputs": [],
   "source": [
    "# def update_inventory(customer_orders, inventory):\n",
    "#     for product in customer_orders:\n",
    "#         if product in inventory:\n",
    "#             inventory[product] -= 1  \n",
    "#             if inventory[product] == 0:\n",
    "#                 del inventory[product]  \n",
    "#     print(\"Updated inventory:\", inventory)\n",
    "#     return inventory\n",
    "\n",
    "def update_inventory(customer_orders, inventory):\n",
    "    updated_inventory = {product: inventory[product] -1 for product in inventory if product in customer_orders}\n",
    "    updated_inventory = {product: quantity for product, quantity in updated_inventory.items() if quantity > 0}\n",
    "    #filters out quantities of 0 from inventory dictionary \n",
    "    print(\"Updated inventory:\", updated_inventory)\n",
    "    return inventory \n",
    "\n"
   ]
  },
  {
   "cell_type": "code",
   "execution_count": 36,
   "id": "fa1d3a06",
   "metadata": {},
   "outputs": [
    {
     "name": "stdout",
     "output_type": "stream",
     "text": [
      "Updated inventory: {}\n"
     ]
    }
   ],
   "source": [
    "updated_inventory = update_inventory(customer_orders,inventory)"
   ]
  },
  {
   "cell_type": "code",
   "execution_count": 37,
   "id": "41c64142",
   "metadata": {},
   "outputs": [],
   "source": [
    "def print_updated_inventory(updated_inventory):\n",
    "    print(updated_inventory)"
   ]
  },
  {
   "cell_type": "code",
   "execution_count": 38,
   "id": "0b3f7fc4",
   "metadata": {},
   "outputs": [
    {
     "name": "stdout",
     "output_type": "stream",
     "text": [
      "{}\n"
     ]
    }
   ],
   "source": [
    "print_updated_inventory(updated_inventory)"
   ]
  },
  {
   "cell_type": "code",
   "execution_count": 42,
   "id": "e56a6568",
   "metadata": {},
   "outputs": [
    {
     "name": "stdout",
     "output_type": "stream",
     "text": [
      "Please enter the price of hat: 40\n",
      "Please enter the price of mug: 22.30\n",
      "The total price of the order is $62.3.\n"
     ]
    }
   ],
   "source": [
    "total_order_price(customer_orders)"
   ]
  },
  {
   "cell_type": "code",
   "execution_count": null,
   "id": "54344fcb",
   "metadata": {},
   "outputs": [],
   "source": []
  },
  {
   "cell_type": "code",
   "execution_count": null,
   "id": "07db0a11",
   "metadata": {},
   "outputs": [],
   "source": []
  }
 ],
 "metadata": {
  "kernelspec": {
   "display_name": "Python 3 (ipykernel)",
   "language": "python",
   "name": "python3"
  },
  "language_info": {
   "codemirror_mode": {
    "name": "ipython",
    "version": 3
   },
   "file_extension": ".py",
   "mimetype": "text/x-python",
   "name": "python",
   "nbconvert_exporter": "python",
   "pygments_lexer": "ipython3",
   "version": "3.11.7"
  }
 },
 "nbformat": 4,
 "nbformat_minor": 5
}
